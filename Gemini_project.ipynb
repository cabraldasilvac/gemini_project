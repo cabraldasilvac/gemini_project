{
  "nbformat": 4,
  "nbformat_minor": 0,
  "metadata": {
    "colab": {
      "provenance": [],
      "authorship_tag": "ABX9TyNVkeYAPefan728FgTO9Bfq",
      "include_colab_link": true
    },
    "kernelspec": {
      "name": "python3",
      "display_name": "Python 3"
    },
    "language_info": {
      "name": "python"
    }
  },
  "cells": [
    {
      "cell_type": "markdown",
      "metadata": {
        "id": "view-in-github",
        "colab_type": "text"
      },
      "source": [
        "<a href=\"https://colab.research.google.com/github/cabraldasilvac/gemini_project/blob/main/Gemini_project.ipynb\" target=\"_parent\"><img src=\"https://colab.research.google.com/assets/colab-badge.svg\" alt=\"Open In Colab\"/></a>"
      ]
    },
    {
      "cell_type": "markdown",
      "source": [
        "**Instalando o SDK do Google**"
      ],
      "metadata": {
        "id": "yX9rdFpef3ly"
      }
    },
    {
      "cell_type": "markdown",
      "source": [
        "**Projeto Imersão IA_ Aula 04**"
      ],
      "metadata": {
        "id": "nVyeHieJFVDt"
      }
    },
    {
      "cell_type": "markdown",
      "source": [
        "***Criando seu próprio CHATBOT com a GEMINI API no Google Colab***"
      ],
      "metadata": {
        "id": "73_zvvHWFepr"
      }
    },
    {
      "cell_type": "code",
      "source": [
        "!pip install -q -U google-generativeai"
      ],
      "metadata": {
        "id": "M9ksMPIWfcwz"
      },
      "execution_count": null,
      "outputs": []
    },
    {
      "cell_type": "markdown",
      "source": [
        "Configuração e importação da API"
      ],
      "metadata": {
        "id": "8eLL_E6RgN0P"
      }
    },
    {
      "cell_type": "code",
      "source": [
        "# Import the Python SDK\n",
        "import google.generativeai as genai\n",
        "# Used to securely store your API key\n",
        "\n",
        "from google.colab import userdata\n",
        "GOOGLE_API_KEY=userdata.get('GOOGLE_API_KEY')\n",
        "genai.configure(api_key=GOOGLE_API_KEY)"
      ],
      "metadata": {
        "id": "BIeb1zYufefR"
      },
      "execution_count": null,
      "outputs": []
    },
    {
      "cell_type": "markdown",
      "source": [
        "**Listar os modelos disponíveis**"
      ],
      "metadata": {
        "id": "n7o6ToERf5O0"
      }
    },
    {
      "cell_type": "code",
      "source": [
        "for m in genai.list_models():\n",
        "  if 'generateContent' in m.supported_generation_methods:\n",
        "    print(m.name)"
      ],
      "metadata": {
        "colab": {
          "base_uri": "https://localhost:8080/",
          "height": 142
        },
        "id": "FsxoGsa1gKEU",
        "outputId": "27df8a2c-482a-4ace-fd7e-767b0fb27940"
      },
      "execution_count": null,
      "outputs": [
        {
          "output_type": "stream",
          "name": "stdout",
          "text": [
            "models/gemini-1.0-pro\n",
            "models/gemini-1.0-pro-001\n",
            "models/gemini-1.0-pro-latest\n",
            "models/gemini-1.0-pro-vision-latest\n",
            "models/gemini-1.5-pro-latest\n",
            "models/gemini-pro\n",
            "models/gemini-pro-vision\n"
          ]
        }
      ]
    },
    {
      "cell_type": "markdown",
      "source": [
        "**CONFIGURAÇÃO DE MODELO**"
      ],
      "metadata": {
        "id": "Ts23Egd2knB8"
      }
    },
    {
      "cell_type": "code",
      "source": [
        "generation_config = {\n",
        "    \"candidate_count\":1,\n",
        "    \"temperature\": 0.5,\n",
        "    \"top_p\": 0.5\n",
        "}"
      ],
      "metadata": {
        "id": "MJMo93xtjJs8"
      },
      "execution_count": null,
      "outputs": []
    },
    {
      "cell_type": "markdown",
      "source": [
        "Configuração de Conteúdo"
      ],
      "metadata": {
        "id": "cMUsPPabk3OY"
      }
    },
    {
      "cell_type": "code",
      "source": [
        "safety_settings = {\n",
        "    \"HARASSMENT\": \"BLOCK_NONE\",\n",
        "    \"HATE\":\"BLOCK_NONE\",\n",
        "    \"SEXUAL\":\"BLOCK_NONE\",\n",
        "    \"DANGEROUS\":\"BLOCK_NONE\",\n",
        "}"
      ],
      "metadata": {
        "id": "VD7YYSX6j2lW"
      },
      "execution_count": null,
      "outputs": []
    },
    {
      "cell_type": "markdown",
      "source": [
        "**Inicializando o Modelo Generativo**"
      ],
      "metadata": {
        "id": "u3F4DIWElCZE"
      }
    },
    {
      "cell_type": "code",
      "source": [
        "model = genai.GenerativeModel(model_name='gemini-1.0-pro',\n",
        "                              generation_config=generation_config,\n",
        "                              safety_settings=safety_settings)"
      ],
      "metadata": {
        "id": "x1V9XaWjflx4"
      },
      "execution_count": null,
      "outputs": []
    },
    {
      "cell_type": "markdown",
      "source": [
        "**Imprimir a Resposta**"
      ],
      "metadata": {
        "id": "wd3rpgsCmTBS"
      }
    },
    {
      "cell_type": "code",
      "source": [
        "response = model.generate_content(\"Vamos aprender conteúdo sobre IA. Me de sugestões.\")\n",
        "print(response.text)"
      ],
      "metadata": {
        "colab": {
          "base_uri": "https://localhost:8080/",
          "height": 785
        },
        "id": "MTEjxJe3fo8k",
        "outputId": "6af54ee0-b63a-44a6-ef6d-af19d239d8a4"
      },
      "execution_count": null,
      "outputs": [
        {
          "output_type": "stream",
          "name": "stdout",
          "text": [
            "**Conceitos Fundamentais**\n",
            "\n",
            "* Definição e tipos de Inteligência Artificial (IA)\n",
            "* Aprendizado de Máquina (ML) vs. Aprendizado Profundo (DL)\n",
            "* Redes Neurais e Arquiteturas de Rede\n",
            "* Processamento de Linguagem Natural (PNL)\n",
            "* Visão Computacional\n",
            "\n",
            "**Técnicas de Aprendizado de Máquina**\n",
            "\n",
            "* Aprendizado Supervisionado vs. Não Supervisionado\n",
            "* Algoritmos de Classificação e Regressão\n",
            "* Modelos de Agrupamento e Redução de Dimensionalidade\n",
            "* Avaliação de Modelos e Seleção de Recursos\n",
            "\n",
            "**Aplicações de IA**\n",
            "\n",
            "* Reconhecimento de Imagem e Vídeo\n",
            "* Processamento de Linguagem Natural e Geração de Texto\n",
            "* Sistemas de Recomendação e Personalização\n",
            "* Diagnóstico Médico e Análise de Dados\n",
            "* Automação e Robótica\n",
            "\n",
            "**Ética e Implicações Sociais da IA**\n",
            "\n",
            "* Viés e Discriminação em Algoritmos\n",
            "* Privacidade e Segurança de Dados\n",
            "* Impacto no Emprego e na Sociedade\n",
            "* Regulamentações e Políticas Éticas\n",
            "\n",
            "**Recursos de Aprendizagem**\n",
            "\n",
            "* **Cursos Online:** Coursera, edX, Udemy\n",
            "* **Livros:** \"Inteligência Artificial: Uma Abordagem Moderna\" (Stuart Russell e Peter Norvig), \"Aprendizado de Máquina\" (Tom Mitchell)\n",
            "* **Tutoriais e Documentação:** TensorFlow, PyTorch, Keras\n",
            "* **Comunidades e Fóruns:** Stack Overflow, Reddit (r/MachineLearning, r/ArtificialIntelligence)\n",
            "\n",
            "**Dicas para Aprender IA**\n",
            "\n",
            "* Comece com conceitos básicos e gradualmente avance para tópicos mais avançados.\n",
            "* Pratique a implementação de algoritmos e modelos usando bibliotecas como TensorFlow ou PyTorch.\n",
            "* Participe de projetos e competições de IA para aplicar seus conhecimentos.\n",
            "* Mantenha-se atualizado com as últimas tendências e pesquisas em IA.\n"
          ]
        }
      ]
    },
    {
      "cell_type": "markdown",
      "source": [
        "\n",
        "\n",
        "---\n",
        "\n"
      ],
      "metadata": {
        "id": "MOm9pCB8dSN2"
      }
    },
    {
      "cell_type": "markdown",
      "source": [
        "**Cria o CHAT**"
      ],
      "metadata": {
        "id": "4J4oZ_GLmlpg"
      }
    },
    {
      "cell_type": "code",
      "source": [
        "chat = model.start_chat(history=[])"
      ],
      "metadata": {
        "id": "-JCn6fzKmkmf"
      },
      "execution_count": null,
      "outputs": []
    },
    {
      "cell_type": "markdown",
      "source": [
        "Aguardando o Prompt"
      ],
      "metadata": {
        "id": "d9IOl93Anqky"
      }
    },
    {
      "cell_type": "code",
      "source": [
        "prompt = input(\"Esperando o prompt: \")\n",
        "\n",
        "while prompt != \"fim\":\n",
        "  response = chat.send_message(prompt)\n",
        "  print(\"Resposta: \", response.text, \"\\n\")\n",
        "  prompt = input(\"Esperando o prompt: \")"
      ],
      "metadata": {
        "colab": {
          "base_uri": "https://localhost:8080/",
          "height": 1000
        },
        "id": "arQ6H_0lnLV_",
        "outputId": "b72cfd9d-2a1f-4b3e-84b6-95c95328dc44"
      },
      "execution_count": null,
      "outputs": [
        {
          "name": "stdout",
          "output_type": "stream",
          "text": [
            "Esperando o prompt: Quais os times que mais venceram a copa do Brasil?\n",
            "Resposta:  1. Cruzeiro (6 títulos)\n",
            "2. Grêmio (5 títulos)\n",
            "3. Palmeiras (4 títulos)\n",
            "4. Flamengo (4 títulos)\n",
            "5. Corinthians (3 títulos)\n",
            "6. Atlético Mineiro (2 títulos)\n",
            "7. Internacional (2 títulos)\n",
            "8. Fluminense (1 título)\n",
            "9. Santos (1 título)\n",
            "10. São Paulo (1 título) \n",
            "\n",
            "Esperando o prompt: Voce pode informar em quais anos o 1 colocado venceu?\n",
            "Resposta:  **Cruzeiro (6 títulos)**\n",
            "\n",
            "* 1993\n",
            "* 1996\n",
            "* 2000\n",
            "* 2003\n",
            "* 2017\n",
            "* 2018\n",
            "\n",
            "**Grêmio (5 títulos)**\n",
            "\n",
            "* 1989\n",
            "* 1994\n",
            "* 2001\n",
            "* 2016\n",
            "* 2018\n",
            "\n",
            "**Palmeiras (4 títulos)**\n",
            "\n",
            "* 1998\n",
            "* 2012\n",
            "* 2015\n",
            "* 2020\n",
            "\n",
            "**Flamengo (4 títulos)**\n",
            "\n",
            "* 1990\n",
            "* 2006\n",
            "* 2013\n",
            "* 2022\n",
            "\n",
            "**Corinthians (3 títulos)**\n",
            "\n",
            "* 1995\n",
            "* 2002\n",
            "* 2009\n",
            "\n",
            "**Atlético Mineiro (2 títulos)**\n",
            "\n",
            "* 2014\n",
            "* 2021\n",
            "\n",
            "**Internacional (2 títulos)**\n",
            "\n",
            "* 1992\n",
            "* 2006\n",
            "\n",
            "**Fluminense (1 título)**\n",
            "\n",
            "* 2007\n",
            "\n",
            "**Santos (1 título)**\n",
            "\n",
            "* 2010\n",
            "\n",
            "**São Paulo (1 título)**\n",
            "\n",
            "* 2012 \n",
            "\n",
            "Esperando o prompt: fim\n"
          ]
        }
      ]
    },
    {
      "cell_type": "code",
      "source": [
        "chat"
      ],
      "metadata": {
        "colab": {
          "base_uri": "https://localhost:8080/"
        },
        "id": "2zNcPeMACLCI",
        "outputId": "fbbd8c6b-d073-4bdb-c1b3-9bac84684677"
      },
      "execution_count": null,
      "outputs": [
        {
          "output_type": "execute_result",
          "data": {
            "text/plain": [
              "ChatSession(\n",
              "    model=genai.GenerativeModel(\n",
              "        model_name='models/gemini-1.0-pro',\n",
              "        generation_config={'candidate_count': 1, 'temperature': 0.5, 'top_p': 0.5},\n",
              "        safety_settings={<HarmCategory.HARM_CATEGORY_HARASSMENT: 7>: <HarmBlockThreshold.BLOCK_NONE: 4>, <HarmCategory.HARM_CATEGORY_HATE_SPEECH: 8>: <HarmBlockThreshold.BLOCK_NONE: 4>, <HarmCategory.HARM_CATEGORY_SEXUALLY_EXPLICIT: 9>: <HarmBlockThreshold.BLOCK_NONE: 4>, <HarmCategory.HARM_CATEGORY_DANGEROUS_CONTENT: 10>: <HarmBlockThreshold.BLOCK_NONE: 4>},\n",
              "        tools=None,\n",
              "        system_instruction=None,\n",
              "    ),\n",
              "    history=[glm.Content({'parts': [{'text': 'Quais os tim...pa do Brasil?'}], 'role': 'user'}), glm.Content({'parts': [{'text': '1. Cruzeiro ...lo (1 título)'}], 'role': 'model'}), glm.Content({'parts': [{'text': 'Voce pode in...ocado venceu?'}], 'role': 'user'}), glm.Content({'parts': [{'text': '**Cruzeiro (...)**\\n\\n* 2012'}], 'role': 'model'})]\n",
              ")"
            ]
          },
          "metadata": {},
          "execution_count": 17
        }
      ]
    },
    {
      "cell_type": "code",
      "source": [
        "chat.history"
      ],
      "metadata": {
        "colab": {
          "base_uri": "https://localhost:8080/"
        },
        "id": "Yiyxiy47CS2_",
        "outputId": "9fecd508-a1b0-4527-b949-6c1bb9ff2965"
      },
      "execution_count": null,
      "outputs": [
        {
          "output_type": "execute_result",
          "data": {
            "text/plain": [
              "[parts {\n",
              "   text: \"Quais os times que mais venceram a copa do Brasil?\"\n",
              " }\n",
              " role: \"user\",\n",
              " parts {\n",
              "   text: \"1. Cruzeiro (6 t\\303\\255tulos)\\n2. Gr\\303\\252mio (5 t\\303\\255tulos)\\n3. Palmeiras (4 t\\303\\255tulos)\\n4. Flamengo (4 t\\303\\255tulos)\\n5. Corinthians (3 t\\303\\255tulos)\\n6. Atl\\303\\251tico Mineiro (2 t\\303\\255tulos)\\n7. Internacional (2 t\\303\\255tulos)\\n8. Fluminense (1 t\\303\\255tulo)\\n9. Santos (1 t\\303\\255tulo)\\n10. S\\303\\243o Paulo (1 t\\303\\255tulo)\"\n",
              " }\n",
              " role: \"model\",\n",
              " parts {\n",
              "   text: \"Voce pode informar em quais anos o 1 colocado venceu?\"\n",
              " }\n",
              " role: \"user\",\n",
              " parts {\n",
              "   text: \"**Cruzeiro (6 t\\303\\255tulos)**\\n\\n* 1993\\n* 1996\\n* 2000\\n* 2003\\n* 2017\\n* 2018\\n\\n**Gr\\303\\252mio (5 t\\303\\255tulos)**\\n\\n* 1989\\n* 1994\\n* 2001\\n* 2016\\n* 2018\\n\\n**Palmeiras (4 t\\303\\255tulos)**\\n\\n* 1998\\n* 2012\\n* 2015\\n* 2020\\n\\n**Flamengo (4 t\\303\\255tulos)**\\n\\n* 1990\\n* 2006\\n* 2013\\n* 2022\\n\\n**Corinthians (3 t\\303\\255tulos)**\\n\\n* 1995\\n* 2002\\n* 2009\\n\\n**Atl\\303\\251tico Mineiro (2 t\\303\\255tulos)**\\n\\n* 2014\\n* 2021\\n\\n**Internacional (2 t\\303\\255tulos)**\\n\\n* 1992\\n* 2006\\n\\n**Fluminense (1 t\\303\\255tulo)**\\n\\n* 2007\\n\\n**Santos (1 t\\303\\255tulo)**\\n\\n* 2010\\n\\n**S\\303\\243o Paulo (1 t\\303\\255tulo)**\\n\\n* 2012\"\n",
              " }\n",
              " role: \"model\"]"
            ]
          },
          "metadata": {},
          "execution_count": 18
        }
      ]
    },
    {
      "cell_type": "code",
      "source": [
        "# Melhorando a visualização\n",
        "# Código disponível em https://ai.google.dev/tutorials/python/quickstart/import_packages\n",
        "\n",
        "import textwrap\n",
        "from IPython.display import display\n",
        "from IPython.display import Markdown\n",
        "\n",
        "def to_markdown(text):\n",
        "  \"\"\"Formata o texto como Markdown com indentação.\"\"\"\n",
        "  # Avoid replacing semicolons if they are valid message content\n",
        "  text = text.replace(';', ',')  # Commented out\n",
        "  return Markdown(textwrap.indent(text, '>', predicate=lambda _: True))\n",
        "\n",
        "# Imprimindo o histórico\n",
        "for message in chat.history:\n",
        "  try:\n",
        "    display(to_markdown(f\"**{message.role}**: {message.parts[0].text}\"))\n",
        "  except (AttributeError, IndexError):  # Handle missing attributes or list index issues\n",
        "    print(\"Error processing message\")\n",
        "  print(\"---\")\n"
      ],
      "metadata": {
        "id": "LhOk_m_1ntqM",
        "colab": {
          "base_uri": "https://localhost:8080/",
          "height": 1000
        },
        "outputId": "833a27e8-8140-4e79-f92d-acfd74567068"
      },
      "execution_count": null,
      "outputs": [
        {
          "output_type": "display_data",
          "data": {
            "text/plain": [
              "<IPython.core.display.Markdown object>"
            ],
            "text/markdown": ">**user**: Quais os times que mais venceram a copa do Brasil?"
          },
          "metadata": {}
        },
        {
          "output_type": "stream",
          "name": "stdout",
          "text": [
            "---\n"
          ]
        },
        {
          "output_type": "display_data",
          "data": {
            "text/plain": [
              "<IPython.core.display.Markdown object>"
            ],
            "text/markdown": ">**model**: 1. Cruzeiro (6 títulos)\n>2. Grêmio (5 títulos)\n>3. Palmeiras (4 títulos)\n>4. Flamengo (4 títulos)\n>5. Corinthians (3 títulos)\n>6. Atlético Mineiro (2 títulos)\n>7. Internacional (2 títulos)\n>8. Fluminense (1 título)\n>9. Santos (1 título)\n>10. São Paulo (1 título)"
          },
          "metadata": {}
        },
        {
          "output_type": "stream",
          "name": "stdout",
          "text": [
            "---\n"
          ]
        },
        {
          "output_type": "display_data",
          "data": {
            "text/plain": [
              "<IPython.core.display.Markdown object>"
            ],
            "text/markdown": ">**user**: Voce pode informar em quais anos o 1 colocado venceu?"
          },
          "metadata": {}
        },
        {
          "output_type": "stream",
          "name": "stdout",
          "text": [
            "---\n"
          ]
        },
        {
          "output_type": "display_data",
          "data": {
            "text/plain": [
              "<IPython.core.display.Markdown object>"
            ],
            "text/markdown": ">**model**: **Cruzeiro (6 títulos)**\n>\n>* 1993\n>* 1996\n>* 2000\n>* 2003\n>* 2017\n>* 2018\n>\n>**Grêmio (5 títulos)**\n>\n>* 1989\n>* 1994\n>* 2001\n>* 2016\n>* 2018\n>\n>**Palmeiras (4 títulos)**\n>\n>* 1998\n>* 2012\n>* 2015\n>* 2020\n>\n>**Flamengo (4 títulos)**\n>\n>* 1990\n>* 2006\n>* 2013\n>* 2022\n>\n>**Corinthians (3 títulos)**\n>\n>* 1995\n>* 2002\n>* 2009\n>\n>**Atlético Mineiro (2 títulos)**\n>\n>* 2014\n>* 2021\n>\n>**Internacional (2 títulos)**\n>\n>* 1992\n>* 2006\n>\n>**Fluminense (1 título)**\n>\n>* 2007\n>\n>**Santos (1 título)**\n>\n>* 2010\n>\n>**São Paulo (1 título)**\n>\n>* 2012"
          },
          "metadata": {}
        },
        {
          "output_type": "stream",
          "name": "stdout",
          "text": [
            "---\n"
          ]
        }
      ]
    },
    {
      "cell_type": "markdown",
      "source": [],
      "metadata": {
        "id": "D-_EjjgIFNIk"
      }
    },
    {
      "cell_type": "markdown",
      "source": [],
      "metadata": {
        "id": "mb8DMeADns2B"
      }
    }
  ]
}